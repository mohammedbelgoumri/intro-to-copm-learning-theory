{
 "cells": [
  {
   "cell_type": "code",
   "execution_count": 1,
   "metadata": {},
   "outputs": [],
   "source": [
    "import numpy as np\n",
    "import matplotlib.pyplot as plt\n",
    "import seaborn as sns\n",
    "from matplotlib.patches import Rectangle"
   ]
  },
  {
   "cell_type": "markdown",
   "metadata": {},
   "source": [
    "# An Introduction To computational Learning Theory"
   ]
  },
  {
   "cell_type": "markdown",
   "metadata": {},
   "source": [
    "## 1. The Probably Approximately Correct Learning Model"
   ]
  },
  {
   "cell_type": "markdown",
   "metadata": {},
   "source": [
    "### 1.1 A Rectangular Learning Game"
   ]
  },
  {
   "cell_type": "code",
   "execution_count": 17,
   "metadata": {},
   "outputs": [
    {
     "data": {
      "image/png": "[encoded data removed]",
      "text/plain": [
       "<Figure size 360x360 with 1 Axes>"
      ]
     },
     "metadata": {},
     "output_type": "display_data"
    }
   ],
   "source": [
    "# Setup (plane and unknown rectangle)\n",
    "anchor = np.array([.5, .5])\n",
    "width = 3\n",
    "height = 2\n",
    "\n",
    "plt.style.use('seaborn-whitegrid')\n",
    "fig = plt.figure(figsize=(5, 5))\n",
    "ax = fig.add_subplot(111)\n",
    "ax.set_xlim([-.7, 5])\n",
    "ax.set_ylim([-.7, 5])\n",
    "plane = Rectangle(\n",
    "    (-.7, -.7), \n",
    "    ax.get_xlim()[1] - ax.get_xlim()[0], ax.get_ylim()[1] - ax.get_ylim()[0],facecolor='red', alpha=0.2\n",
    ")\n",
    "unknown = Rectangle(anchor, width, height, facecolor='green', alpha=0.2)\n",
    "ax.add_patch(plane)\n",
    "ax.add_patch(unknown)\n",
    "ax.text(width/2+anchor[0] -.2, anchor[1]-.5, r\"$\\mathcal{R}$\", fontsize=15)\n",
    "\n",
    "\n",
    "\n",
    "\n",
    "# Draw N points colored based on their location\n",
    "N = 100\n",
    "points = np.random.rand(N, 2) * 5\n",
    "is_positive = (anchor[0] < points[:, 0]) &\\\n",
    "(points[:, 0] < anchor[0] + width)       &\\\n",
    "(anchor[1] < points[:, 1])               &\\\n",
    "(points[:, 1] < anchor[1] + height)\n",
    "for i, point in enumerate(points):\n",
    "    ax.scatter(point[0], point[1], c='green' if is_positive[i] else 'red', marker='+' if is_positive[i] else '_')\n",
    "plt.savefig('../assets/images/traget-and-sample.pdf')\n",
    "plt.show()"
   ]
  }
 ],
 "metadata": {
  "interpreter": {
   "hash": "31f2aee4e71d21fbe5cf8b01ff0e069b9275f58929596ceb00d14d90e3e16cd6"
  },
  "kernelspec": {
   "display_name": "Python 3.8.10 64-bit",
   "language": "python",
   "name": "python3"
  },
  "language_info": {
   "codemirror_mode": {
    "name": "ipython",
    "version": 3
   },
   "file_extension": ".py",
   "mimetype": "text/x-python",
   "name": "python",
   "nbconvert_exporter": "python",
   "pygments_lexer": "ipython3",
   "version": "3.8.10"
  },
  "orig_nbformat": 4
 },
 "nbformat": 4,
 "nbformat_minor": 2
}
